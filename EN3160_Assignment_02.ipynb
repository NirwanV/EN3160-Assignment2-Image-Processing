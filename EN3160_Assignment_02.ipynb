{
 "cells": [
  {
   "cell_type": "markdown",
   "id": "e8879cab-0c47-4845-99b5-c759f736ce78",
   "metadata": {},
   "source": [
    "# EN3160 Assignment 02 : Fitting and Alignment"
   ]
  },
  {
   "cell_type": "markdown",
   "id": "54aeccfb-b9ef-4f9e-9506-ed52bee97d71",
   "metadata": {},
   "source": [
    "## Question 01"
   ]
  },
  {
   "cell_type": "code",
   "execution_count": null,
   "id": "20b3ab69-ef28-44db-9df2-04ad2d18b330",
   "metadata": {},
   "outputs": [],
   "source": []
  },
  {
   "cell_type": "code",
   "execution_count": null,
   "id": "e2a752ad-3ced-40ed-96ee-49bd3d67571c",
   "metadata": {},
   "outputs": [],
   "source": []
  },
  {
   "cell_type": "markdown",
   "id": "9fa82ed3-4d59-4a07-bd98-9186efe75499",
   "metadata": {},
   "source": [
    "## Question 02\n"
   ]
  },
  {
   "cell_type": "code",
   "execution_count": null,
   "id": "13980441-a9c2-4a74-ab2d-ff2e5acc6ff9",
   "metadata": {},
   "outputs": [],
   "source": []
  },
  {
   "cell_type": "markdown",
   "id": "f14165f9-61f2-4587-92e1-82880b650d8d",
   "metadata": {},
   "source": [
    "## Question 03"
   ]
  },
  {
   "cell_type": "code",
   "execution_count": null,
   "id": "183c64c3-d3c1-4ea3-981e-cbeadc89e6d3",
   "metadata": {},
   "outputs": [],
   "source": []
  },
  {
   "cell_type": "markdown",
   "id": "32a6309a-8b4c-4136-957b-c0eee753b001",
   "metadata": {},
   "source": [
    "## Question 04"
   ]
  },
  {
   "cell_type": "code",
   "execution_count": null,
   "id": "a5c0f1b8-2695-4155-9ef8-2a654b00cdc1",
   "metadata": {},
   "outputs": [],
   "source": []
  }
 ],
 "metadata": {
  "kernelspec": {
   "display_name": "Python 3 (ipykernel)",
   "language": "python",
   "name": "python3"
  },
  "language_info": {
   "codemirror_mode": {
    "name": "ipython",
    "version": 3
   },
   "file_extension": ".py",
   "mimetype": "text/x-python",
   "name": "python",
   "nbconvert_exporter": "python",
   "pygments_lexer": "ipython3",
   "version": "3.10.10"
  }
 },
 "nbformat": 4,
 "nbformat_minor": 5
}
